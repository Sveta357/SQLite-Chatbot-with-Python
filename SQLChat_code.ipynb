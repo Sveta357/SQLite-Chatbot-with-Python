{
 "cells": [
  {
   "cell_type": "code",
   "execution_count": 1,
   "id": "b213801f-6b14-4bc4-8153-ab8cfd062d94",
   "metadata": {},
   "outputs": [],
   "source": [
    "import openai\n",
    "import os\n",
    "import sqlite3\n",
    "from langchain.chat_models import ChatOpenAI\n",
    "from langchain.prompts import ChatPromptTemplate, HumanMessagePromptTemplate, MessagesPlaceholder\n",
    "from langchain.tools import Tool, StructuredTool\n",
    "from langchain.agents import OpenAIFunctionsAgent, AgentExecutor\n",
    "from langchain.schema import SystemMessage\n",
    "from langchain.memory import ConversationBufferMemory\n",
    "from pydantic.v1 import BaseModel\n",
    "from typing import List, Union, Tuple\n"
   ]
  },
  {
   "cell_type": "code",
   "execution_count": 2,
   "id": "4167b1fb-8d83-4a17-a9fb-70e128c2fe30",
   "metadata": {},
   "outputs": [],
   "source": [
    "# Path to database\n",
    "db_path = os.getenv(\"DATABASE_PATH\", \"db.sqlite\")"
   ]
  },
  {
   "cell_type": "code",
   "execution_count": 3,
   "id": "92422a9f-7758-43ee-8a11-a3d69ebd38ee",
   "metadata": {},
   "outputs": [],
   "source": [
    "# Set up your OpenAI API key. You need an API key from OpenAI to use GPT models.\n",
    "\n",
    "api_key = \"*****\""
   ]
  },
  {
   "cell_type": "code",
   "execution_count": 4,
   "id": "6a3be39d-6368-4a93-aa8c-5c228ecafa7e",
   "metadata": {},
   "outputs": [
    {
     "name": "stderr",
     "output_type": "stream",
     "text": [
      "/Users/svitlanatuchyna/langchain/langchain/lib/python3.11/site-packages/langchain_core/_api/deprecation.py:117: LangChainDeprecationWarning: The class `langchain_community.chat_models.openai.ChatOpenAI` was deprecated in langchain-community 0.0.10 and will be removed in 0.2.0. An updated version of the class exists in the langchain-openai package and should be used instead. To use it run `pip install -U langchain-openai` and import as `from langchain_openai import ChatOpenAI`.\n",
      "  warn_deprecated(\n"
     ]
    }
   ],
   "source": [
    "# Initialize chat with OpenAI\n",
    "\n",
    "chat = ChatOpenAI(openai_api_key=api_key)"
   ]
  },
  {
   "cell_type": "code",
   "execution_count": 5,
   "id": "aa7cd20f-a53d-4e5f-8d3f-e5c2486fa1ea",
   "metadata": {},
   "outputs": [],
   "source": [
    "# Define a function to Execute SQLite Queries\n",
    "def run_sqlite_query(query: str) -> Union[str, List[Tuple]]:\n",
    "    \"\"\"Execute a SQLite query and fetch the results.\n",
    "\n",
    "    Args:\n",
    "        query: The SQL query to execute.\n",
    "\n",
    "    Returns:\n",
    "        A list of tuples containing the query results or an error message.\n",
    "    \"\"\"\n",
    "    with sqlite3.connect(db_path) as conn:\n",
    "        cursor = conn.cursor()\n",
    "        try:\n",
    "            cursor.execute(query)\n",
    "            return cursor.fetchall()\n",
    "        except sqlite3.OperationalError as err:\n",
    "            return f\"The following error occurred: {str(err)}\"\n",
    "    "
   ]
  },
  {
   "cell_type": "code",
   "execution_count": 6,
   "id": "164a1d56-d95a-4167-ba18-9222626f8d80",
   "metadata": {},
   "outputs": [],
   "source": [
    "# Create Schema Definition for Query Arguments\n",
    "\n",
    "class RunQueryArgsSchema(BaseModel):\n",
    "    query: str  "
   ]
  },
  {
   "cell_type": "code",
   "execution_count": 7,
   "id": "e982b7c8-e813-449a-935f-083e86369617",
   "metadata": {},
   "outputs": [],
   "source": [
    "# Creating a Tool to Run SQLite Queries\n",
    "\n",
    "run_query_tool = Tool.from_function(\n",
    "    name=\"run_query\",\n",
    "    description=\"Run sqlite query\",\n",
    "    func=run_sqlite_query,\n",
    "    args_schema=RunQueryArgsSchema    \n",
    ")"
   ]
  },
  {
   "cell_type": "code",
   "execution_count": 9,
   "id": "78f04ef5-8a4e-4fc2-960d-a4a5bd4f7b31",
   "metadata": {},
   "outputs": [],
   "source": [
    "# Create a function to retrieve table names from a database\n",
    "\n",
    "def list_tables():\n",
    "    rows = run_sqlite_query(\"SELECT name FROM sqlite_master WHERE type='table';\")\n",
    "    return \"\\n\".join(row[0] for row in rows if row[0] is not None)\n",
    "tables = list_tables()"
   ]
  },
  {
   "cell_type": "code",
   "execution_count": 10,
   "id": "518c94c3-d6aa-4f84-b923-702612a3b845",
   "metadata": {},
   "outputs": [],
   "source": [
    "# Define a function for detailing table schemas\n",
    "\n",
    "def describe_tables(table_names):\n",
    "    tables = ', '.join(\"'\" + table + \"'\" for table in table_names)\n",
    "    rows = run_sqlite_query(f\"SELECT sql FROM sqlite_master WHERE type='table' and name IN ({tables});\")\n",
    "    return \"\\n\".join(row[0] for row in rows if row[0] is not None)\n",
    "    "
   ]
  },
  {
   "cell_type": "code",
   "execution_count": 11,
   "id": "43283f0f-41a2-4e00-a429-b8af49acebbe",
   "metadata": {},
   "outputs": [],
   "source": [
    "# Construct a tool leveraging the describe_tables function for database introspection\n",
    "\n",
    "class DescribeTablesArgsSchema(BaseModel):\n",
    "    table_names: List[str]\n",
    "\n",
    "describe_tables_tool = Tool.from_function(\n",
    "    name=\"describe_table\",\n",
    "    description=\"Given a list of table names returns a squema of the tables\",\n",
    "    func=describe_tables,\n",
    "    args_schema=DescribeTablesArgsSchema\n",
    ")\n"
   ]
  },
  {
   "cell_type": "code",
   "execution_count": 12,
   "id": "74674b63-f615-4690-ab83-fe6fb7cc253c",
   "metadata": {},
   "outputs": [],
   "source": [
    "# Define a function for generating HTML reports based on query results\n",
    "\n",
    "def write_report(filename, html):\n",
    "    with open(filename, 'w') as f:\n",
    "        f.write(html)"
   ]
  },
  {
   "cell_type": "code",
   "execution_count": 13,
   "id": "e34b29d1-2169-450b-81ea-8a988f6f8548",
   "metadata": {},
   "outputs": [],
   "source": [
    "# Create a reporting tool that utilizes the write_report function for output formatting\n",
    "\n",
    "class WriteReportsArgsSchema(BaseModel):\n",
    "    filename: str\n",
    "    html: str\n",
    "    \n",
    "write_report_tool = StructuredTool.from_function(\n",
    "    name=\"write_report\",\n",
    "    description=\"write html file to disk. Use this tools whenever someone asks for a report\",\n",
    "    func=write_report,\n",
    "    args_schema=WriteReportsArgsSchema\n",
    ")"
   ]
  },
  {
   "cell_type": "code",
   "execution_count": 14,
   "id": "7c10439a-ef3e-423c-8986-94d68c458b06",
   "metadata": {},
   "outputs": [],
   "source": [
    "# List all tools designed for database querying and report generation\n",
    "\n",
    "tools = [run_query_tool, describe_tables_tool, write_report_tool]"
   ]
  },
  {
   "cell_type": "code",
   "execution_count": 15,
   "id": "e6d60ce0-423f-4d00-a9f5-e4cb45cef98b",
   "metadata": {},
   "outputs": [],
   "source": [
    "# Allocate memory for storing conversational context and history\n",
    "\n",
    "memory = ConversationBufferMemory(\n",
    "    memory_key=\"chat_history\",\n",
    "    return_messages=True\n",
    ")"
   ]
  },
  {
   "cell_type": "code",
   "execution_count": 16,
   "id": "823e91bc-6995-47b0-8f4b-a03f911f3ec4",
   "metadata": {},
   "outputs": [],
   "source": [
    "# Designs a prompt template for guiding conversational agent interactions\n",
    "\n",
    "prompt = ChatPromptTemplate(\n",
    "    messages=[\n",
    "        SystemMessage(content=(\n",
    "            \"You are an AI that has access to a SQLite database.\\n{tables}.\\n\"\n",
    "            f\"The database has tables of: {tables}\\n\"\n",
    "            \"Do not make any assumptions about what tables or columns exist \"\n",
    "            \"Instead, use the 'describe_tables' function\"\n",
    "        )),\n",
    "        MessagesPlaceholder(variable_name=\"chat_history\"),\n",
    "        HumanMessagePromptTemplate.from_template(\"{input}\"),\n",
    "        MessagesPlaceholder(variable_name=\"agent_scratchpad\")\n",
    "    ]\n",
    ")  "
   ]
  },
  {
   "cell_type": "code",
   "execution_count": 17,
   "id": "988565de-4bba-49b7-b6e4-5e3ceb9a04c4",
   "metadata": {},
   "outputs": [
    {
     "name": "stderr",
     "output_type": "stream",
     "text": [
      "/Users/svitlanatuchyna/langchain/langchain/lib/python3.11/site-packages/langchain_core/_api/deprecation.py:117: LangChainDeprecationWarning: The class `langchain.agents.openai_functions_agent.base.OpenAIFunctionsAgent` was deprecated in langchain 0.1.0 and will be removed in 0.2.0. Use create_openai_functions_agent instead.\n",
      "  warn_deprecated(\n"
     ]
    }
   ],
   "source": [
    "# Create an agent\n",
    "\n",
    "agent = OpenAIFunctionsAgent(\n",
    "    llm=chat,\n",
    "    prompt=prompt,\n",
    "    tools=tools\n",
    ")"
   ]
  },
  {
   "cell_type": "code",
   "execution_count": 18,
   "id": "9457313a-1a8d-42e1-9426-2048bc2db01a",
   "metadata": {},
   "outputs": [],
   "source": [
    "# Deploys an agent executor to facilitate the execution of defined operations and user queries\n",
    "\n",
    "agent_executor = AgentExecutor(\n",
    "    agent=agent,\n",
    "    # verbose=True,\n",
    "    tools=tools,\n",
    "    handle_parsing_errors=True,\n",
    "    memory=memory\n",
    ")"
   ]
  },
  {
   "cell_type": "code",
   "execution_count": 19,
   "id": "aa656372-c2f1-4d73-95b7-3863135a69bf",
   "metadata": {},
   "outputs": [
    {
     "name": "stderr",
     "output_type": "stream",
     "text": [
      "/Users/svitlanatuchyna/langchain/langchain/lib/python3.11/site-packages/langchain_core/_api/deprecation.py:117: LangChainDeprecationWarning: The function `__call__` was deprecated in LangChain 0.1.0 and will be removed in 0.2.0. Use invoke instead.\n",
      "  warn_deprecated(\n"
     ]
    },
    {
     "name": "stdout",
     "output_type": "stream",
     "text": [
      "There are 2000 users in the database.\n",
      "There are 4000 products in the database.\n",
      "There are 120 users who have bought more than 5 products.\n",
      "I have generated a report on the 5 most popular products and saved it as \"popular_products_report.html\".\n"
     ]
    }
   ],
   "source": [
    "# Conducts tests to validate the conversational agent's functionality and response accuracy\n",
    "\n",
    "response = agent_executor(\"How many users are in the database?\")\n",
    "print(response[\"output\"])\n",
    "response = agent_executor(\"and how many products?\")\n",
    "print(response[\"output\"])\n",
    "response = agent_executor(\"How many users bought more then 5 products?\")\n",
    "print(response[\"output\"])\n",
    "response = agent_executor(\"Generate a report about 5 most popular product and write it intoa file\")\n",
    "print(response[\"output\"])"
   ]
  },
  {
   "cell_type": "code",
   "execution_count": null,
   "id": "925baab5-a1cb-4cb8-a870-a817daade96e",
   "metadata": {},
   "outputs": [],
   "source": []
  }
 ],
 "metadata": {
  "kernelspec": {
   "display_name": "Python (langchain)",
   "language": "python",
   "name": "langchain"
  },
  "language_info": {
   "codemirror_mode": {
    "name": "ipython",
    "version": 3
   },
   "file_extension": ".py",
   "mimetype": "text/x-python",
   "name": "python",
   "nbconvert_exporter": "python",
   "pygments_lexer": "ipython3",
   "version": "3.11.0"
  }
 },
 "nbformat": 4,
 "nbformat_minor": 5
}
